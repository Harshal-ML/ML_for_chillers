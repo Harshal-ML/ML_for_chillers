{
 "cells": [
  {
   "cell_type": "markdown",
   "id": "27816e6b",
   "metadata": {},
   "source": [
    "\"Finding hourly Ambient temperature variation\""
   ]
  },
  {
   "cell_type": "code",
   "execution_count": 1,
   "id": "f9bcb497",
   "metadata": {},
   "outputs": [],
   "source": [
    "import math as m\n",
    "def ambient_Temp(LST):\n",
    "    \"For month of April\"\n",
    "    \"If local time between 500 hrs to 1400hrs \"\n",
    "    \"Coldest hour = 5 AM morning & Hottest hour 3 PM afternoon\"\n",
    "    tmin = 5         # coolest ambient temp time\n",
    "    tmax = 15        # hottest ambient temp time\n",
    "    T_max1 = 39      # Maximum Temp on 21st April\n",
    "    T_min1 = 26      # Minimum Temp on 21st April\n",
    "    T_min2 = 26      # Minimum Temp on 22nd April\n",
    "    t = LST-5\n",
    "    if (0<=t) and (t<=9):\n",
    "        T = ((T_max1 -T_min1)/2)*m.tanh((t-4.5)/2.5) + (T_max1+T_min1)/2\n",
    "        return(T)\n",
    "    elif (9<t) and (t<=23):\n",
    "        \"If local time between 1500hrs to 500 hrs\"\n",
    "        T = -((T_max1-T_min2)/2)*m.tanh((t-16.5)/3.5) + (T_max1+T_min2)/2\n",
    "        return (T)\n",
    "    elif (t == -5) or (t == -4) or (t == -3) or (t == -2) or (t == -1):\n",
    "        T = ((T_max1 -T_min1)/2)*m.tanh((t-4.5)/2.5) + (T_max1+T_min1)/2\n",
    "        return(T)\n"
   ]
  },
  {
   "cell_type": "code",
   "execution_count": 2,
   "id": "e3d1ec2f",
   "metadata": {},
   "outputs": [
    {
     "data": {
      "image/png": "[encoded data removed]",
      "text/plain": [
       "<Figure size 600x400 with 1 Axes>"
      ]
     },
     "metadata": {
      "needs_background": "light"
     },
     "output_type": "display_data"
    }
   ],
   "source": [
    "import matplotlib.pyplot as plt\n",
    "import numpy as np\n",
    "\n",
    "T_amb = []\n",
    "Time = []\n",
    "for i in range (0,24,1):\n",
    "    Time.append(i)\n",
    "    dbt = ambient_Temp(i)\n",
    "    T_amb.append(dbt)\n",
    "plt.figure(dpi=100)\n",
    "plt.plot(Time,T_amb)\n",
    "plt.xlabel(\"Time of day\")\n",
    "plt.ylabel(\"Ambient Temperatue deg C\")\n",
    "plt.title(\"Temperature vs Time of Day\")\n",
    "plt.locator_params(axis='x', nbins=25)\n",
    "#plt.xticks(np.arange(0,25,1))\n",
    "plt.show()"
   ]
  },
  {
   "cell_type": "code",
   "execution_count": 3,
   "id": "d6ad39e6",
   "metadata": {},
   "outputs": [
    {
     "name": "stdout",
     "output_type": "stream",
     "text": [
      "[[ 0.   26.01]\n",
      " [ 1.   26.01]\n",
      " [ 2.   26.03]\n",
      " [ 3.   26.07]\n",
      " [ 4.   26.16]\n",
      " [ 5.   26.35]\n",
      " [ 6.   26.75]\n",
      " [ 7.   27.55]\n",
      " [ 8.   29.01]\n",
      " [ 9.   31.22]\n",
      " [10.   33.78]\n",
      " [11.   35.99]\n",
      " [12.   37.45]\n",
      " [13.   38.25]\n",
      " [14.   38.65]\n",
      " [15.   38.69]\n",
      " [16.   38.46]\n",
      " [17.   38.08]\n",
      " [18.   37.45]\n",
      " [19.   36.49]\n",
      " [20.   35.13]\n",
      " [21.   33.42]\n",
      " [22.   31.58]\n",
      " [23.   29.87]]\n"
     ]
    }
   ],
   "source": [
    "\"Temperature values at every hour on 21st April\"\n",
    "Time_array = np.array(Time)\n",
    "T_amb_array = np.array(T_amb)\n",
    "np.set_printoptions(precision = 2)\n",
    "T_amb_array = T_amb_array.reshape(len(T_amb_array),1)\n",
    "Time_array = Time_array.reshape(len(Time_array),1)\n",
    "print(np.concatenate((Time_array, T_amb_array),1)) #reshape(len(Time),1)"
   ]
  },
  {
   "cell_type": "code",
   "execution_count": 4,
   "id": "18bc5180",
   "metadata": {},
   "outputs": [],
   "source": [
    "\"A user defined function which will be used later on \"\n",
    "\n",
    "def wall_thermal_resistance (Length_1,Length_2,Length_3,Area, thermal_cndty_1, thermal_cndty_2, thermal_cndty_3):\n",
    "    r_1 = (Length_1/100)/(thermal_cndty_1*Area)  # [K/W] \"external plaster resistance\"\n",
    "    r_2 = (Length_2/100)/(thermal_cndty_2*Area)  # [K/W] \"brickwall resistance\"\n",
    "    r_3 = (Length_3/100)/(thermal_cndty_3*Area)  # [K/W] \"internal plaster resistance\"\n",
    "    r_equivalent = r_1 + r_2 + r_3               # resistance in series\n",
    "    return r_equivalent"
   ]
  },
  {
   "cell_type": "code",
   "execution_count": 5,
   "id": "badd9fff",
   "metadata": {},
   "outputs": [],
   "source": [
    "\"A user defined function which will be used later on \"\n",
    "\n",
    "def load_through_wall (T_ext , T_int, thermal_resistance):\n",
    "    delta_Temp = T_ext - T_int                   # [K]\"Ambient temperature - Internal temperature\"\n",
    "    Q_wall = (delta_Temp/thermal_resistance)/1000       # [kW]\n",
    "    return Q_wall"
   ]
  },
  {
   "cell_type": "code",
   "execution_count": 6,
   "id": "991b0918",
   "metadata": {},
   "outputs": [],
   "source": [
    "\"A user defined function which will be used later on \"\n",
    "\n",
    "def room_load (Q_ext_wall_1, Q_ext_wall_2):\n",
    "    Q_room = Q_ext_wall_1 + Q_ext_wall_2\n",
    "    return Q_room"
   ]
  },
  {
   "cell_type": "code",
   "execution_count": 7,
   "id": "a18bf7d4",
   "metadata": {},
   "outputs": [
    {
     "name": "stdout",
     "output_type": "stream",
     "text": [
      " Cooling load through 'Server Room' walls = 9.546598453687523 [kW]\n",
      "\n",
      " Cooling load through UPS Room walls = 7.5201978385179995 [kW]\n"
     ]
    }
   ],
   "source": [
    "\"Calculation of transmission load in server room \"\n",
    "\n",
    "k_1 = 0.721 # [W/mK]  Thermal conductivity of cement plaster\n",
    "rho_1 = 1.762 # [kg/m^3] density of cement plaster\n",
    "Cp_1 = 0.84 # [kJ/kgK]  Specific heat \n",
    "\n",
    "\"Solid concrete brick wall in between\"\n",
    "rho_2 = 2427 #[kg/m^3]\n",
    "k_2 = 1.396 #[W/mk]\n",
    "\n",
    "\" Q_cnd = k * A * (delta_T / L)\"\n",
    "\" R_cnd = L/(k*A)\"\n",
    "# We have below values for the external walls\n",
    "T_out = 40+273.15  #[K]\n",
    "T_in = 16+273.15   #[K]\n",
    "\n",
    "L_1 = 2.5   #[cm] \"Thickness of external cement plaster\"\n",
    "L_2 = 22.5  #[cm] \"Thickness of brick wall\"\n",
    "L_3 = 1.25  #[cm] \"Thickness of internal cement plaster\"\n",
    "A_1 = 12.5*4 #[m^2] \"Area of West-wall in server room\"\n",
    "\n",
    "\"Using above function wall_thermal_resistance and providing the given values\"\n",
    "\n",
    "R_eq_1 = wall_thermal_resistance(L_1, L_2, L_3, A_1, k_1, k_2, k_1)  # [K/W]\n",
    "\n",
    "\"Similarly using above function load_through_wall\"\n",
    "\n",
    "Q_in_west = load_through_wall(T_out, T_in, R_eq_1) # [kW]\n",
    "\n",
    "\"Similarly for South wall of the Server Room\"\n",
    "\n",
    "A_2 = 8.7*4                # [m^2]   \"Area of South- wall in server room\"\n",
    "\n",
    "R_eq_2 = wall_thermal_resistance(L_1, L_2, L_3, A_2, k_1, k_2, k_1)  # [K/W]\n",
    "\n",
    "Q_in_south = load_through_wall(T_out, T_in, R_eq_2)                  # [kW]\n",
    "\n",
    "Q_server_room = room_load(Q_in_south, Q_in_west) # [kW]\n",
    "\n",
    "server = \" Cooling load through 'Server Room' walls = {} [kW]\"\n",
    "print(server.format(Q_server_room))\n",
    "\n",
    "\"Now for UPS room also we can calculate incoming heat load \"\n",
    "\n",
    "A_3 = 5.5*4                 #[m^2] {Area of North wall in UPS room}\n",
    "R_eq_3 = wall_thermal_resistance(L_1, L_2, L_3, A_3, k_1, k_2, k_1)  # [K/W]\n",
    "\n",
    "A_4 = 11.2 * 4             # [m^2] {Area of East- wall in UPS room}\n",
    "R_eq_4 = wall_thermal_resistance(L_1, L_2, L_3, A_4, k_1, k_2, k_1)  # [K/W]\n",
    "\n",
    "Q_in_north = load_through_wall(T_out, T_in, R_eq_3)                  # [kW]\n",
    "Q_in_east = load_through_wall(T_out, T_in, R_eq_4)                  # [kW]\n",
    "\n",
    "Q_ups_room = room_load(Q_in_north,Q_in_east)                         #[kW]\n",
    "\n",
    "ups = \"\\n Cooling load through UPS Room walls = {} [kW]\"\n",
    "print(ups.format(Q_ups_room))"
   ]
  },
  {
   "cell_type": "code",
   "execution_count": 8,
   "id": "9e7f0cfb",
   "metadata": {},
   "outputs": [],
   "source": [
    "\"A user defined function which will be used later on \"\n",
    "\n",
    "def Q_total(q_server, q_ups, q_generate, q_light, q_people):\n",
    "    Q_final = q_server + q_ups + q_generate + q_light + q_people # [kW] \"Total cooling load of facility\"\n",
    "    return Q_final"
   ]
  },
  {
   "cell_type": "code",
   "execution_count": 9,
   "id": "713152a3",
   "metadata": {},
   "outputs": [
    {
     "name": "stdout",
     "output_type": "stream",
     "text": [
      "Total cooling load on building = 226.28759629220554 [kW]\n"
     ]
    }
   ],
   "source": [
    "\" Now calculating Total building cooling load\"\n",
    "\n",
    "Q_appliances = (64.4 + 66.7+ 65.4 + 11.8)    # [kW] \"Includes all the heat generated by all the servers of super-computer\"\n",
    "Q_lights = 0.3432*2                   # [kW] \"Heat generation by 33W square lights of 2x2ft 8 lights in each room\"\n",
    "Q_person = 0.1172*2                   # [kW] \"Heat generation by 2 operators: 1 in each room considered\"\n",
    "\n",
    "Q_cooling_load = Q_total(Q_server_room, Q_ups_room, Q_appliances, Q_lights, Q_person) # [kW] \"Calling function Q_total\"\n",
    "\n",
    "load = \"Total cooling load on building = {} [kW]\"\n",
    "print(load.format(Q_cooling_load))"
   ]
  },
  {
   "cell_type": "code",
   "execution_count": 10,
   "id": "1cde2425",
   "metadata": {},
   "outputs": [
    {
     "name": "stdout",
     "output_type": "stream",
     "text": [
      "[26.006502614392033, 26.014462968427182, 26.032144101036252, 26.071321885692853, 26.157669654795566, 26.345760916499255, 26.745214286685293, 27.54963798628753, 29.00917781451277, 31.217060418538125, 33.782939581461875, 35.99082218548723, 37.45036201371247, 38.2547857133147, 38.65423908350074, 38.69069174882386, 38.46214253621902, 38.076999751039615, 37.45036201371247, 36.48682219256999, 35.12682380842608, 33.42230575948506, 31.577694240514937, 29.873176191573915]\n"
     ]
    }
   ],
   "source": [
    "print(T_amb)"
   ]
  },
  {
   "cell_type": "code",
   "execution_count": 11,
   "id": "4c4b3a8a",
   "metadata": {},
   "outputs": [
    {
     "data": {
      "image/png": "[encoded data removed]",
      "text/plain": [
       "<Figure size 600x400 with 1 Axes>"
      ]
     },
     "metadata": {
      "needs_background": "light"
     },
     "output_type": "display_data"
    }
   ],
   "source": [
    "\"Now for ploting the building load variation with Ambient Temperature which is a function of time\"\n",
    "\n",
    "varying_load = []  # Empty variable to store loads at various times\n",
    "\n",
    "for m in range (0,24,1):\n",
    "    Q_wall_1 = load_through_wall(T_amb[m]+273.15, T_in, R_eq_1)\n",
    "    Q_wall_2 = load_through_wall(T_amb[m]+273.15, T_in, R_eq_2)\n",
    "    Q_wall_3 = load_through_wall(T_amb[m]+273.15, T_in, R_eq_3)\n",
    "    Q_wall_4 = load_through_wall(T_amb[m]+273.15, T_in, R_eq_4)\n",
    "    Q_room_1 = room_load(Q_wall_1, Q_wall_2)\n",
    "    Q_room_2 = room_load(Q_wall_3, Q_wall_4)\n",
    "    Q_facility = Q_total(Q_room_1, Q_room_2, Q_appliances, Q_lights, Q_person)\n",
    "    varying_load.append(Q_facility)\n",
    "\n",
    "# Now ploting the graph\n",
    "\n",
    "\n",
    "plt.figure(dpi = 100)\n",
    "#plt.plot(Time, T_amb, color='red', label = \"Amb. Temp\")\n",
    "plt.plot(Time, varying_load, color = 'blue', label = \"\")\n",
    "plt.xlabel(\"Time of day\")\n",
    "plt.ylabel(\"Cooling load [kW]\")\n",
    "plt.title(\"Variation of Cooling load with Time of Day\")\n",
    "plt.locator_params(axis='x', nbins=25)\n",
    "# plt.legend()\n",
    "plt.show()"
   ]
  },
  {
   "cell_type": "code",
   "execution_count": 12,
   "id": "d3f3933f",
   "metadata": {},
   "outputs": [
    {
     "name": "stdout",
     "output_type": "stream",
     "text": [
      "[[216.34]\n",
      " [216.34]\n",
      " [216.35]\n",
      " [216.38]\n",
      " [216.44]\n",
      " [216.58]\n",
      " [216.86]\n",
      " [217.43]\n",
      " [218.47]\n",
      " [220.04]\n",
      " [221.87]\n",
      " [223.44]\n",
      " [224.47]\n",
      " [225.05]\n",
      " [225.33]\n",
      " [225.36]\n",
      " [225.19]\n",
      " [224.92]\n",
      " [224.47]\n",
      " [223.79]\n",
      " [222.82]\n",
      " [221.61]\n",
      " [220.3 ]\n",
      " [219.09]]\n"
     ]
    }
   ],
   "source": [
    "varying_load = np.array(varying_load)\n",
    "print(varying_load.reshape(len(varying_load),1))"
   ]
  },
  {
   "cell_type": "code",
   "execution_count": 13,
   "id": "e49dee92",
   "metadata": {},
   "outputs": [],
   "source": [
    "def chiller_load (delta_temp, m_flwrate_water):\n",
    "    Cp_w = 4.186    # [kW/kg.K] specific heat of water\n",
    "    Q_c = m_flwrate_water * Cp_w * delta_temp\n",
    "    return (Q_c)"
   ]
  },
  {
   "cell_type": "code",
   "execution_count": 14,
   "id": "7aa0f341",
   "metadata": {},
   "outputs": [
    {
     "data": {
      "text/plain": [
       "'chiller1_delta_T = [3.3,2.8,2.8,2.7,2,2,2.1,2.6,2.9,3.1,3.1,3.3]\\n# readings at 2 hr interval starting at 8 hours \\nm_w_1 = 13.98   # [kg/sec] mass flow rate through chiller-1\\n\\nchiller2_delta_T = [1.8,1.9,2.2,2,1.7,1.7,1.9,1.6,1.7,1.8,1.8,2.6]\\nm_w_2 = 13.98   # [kg/sec] mass flow rate of water through chiller-2\\n\\nQ_chiller_1 = []\\nQ_chiller_2 = []\\nQ_chiller_total = []\\n\\nfor i in range (0,12):\\n    Q_chill = chiller_load(chiller1_delta_T[i], m_w_1)\\n    Q_chiller_1.append(Q_chill)\\n    \\n    Q_chill2 = chiller_load(chiller2_delta_T[i], m_w_2)\\n    Q_chiller_2.append(Q_chill2)\\n    \\n    Q_tot_ch = Q_chiller_1[i] + Q_chiller_2[i]\\n    Q_chiller_total.append(Q_tot_ch)\\n\\nprint(Q_chiller_total)'"
      ]
     },
     "execution_count": 14,
     "metadata": {},
     "output_type": "execute_result"
    }
   ],
   "source": [
    "\" From the dataset the readings for 21st April of water through Chiller's Evaporator is entered below \"\n",
    "\"\"\"chiller1_delta_T = [3.3,2.8,2.8,2.7,2,2,2.1,2.6,2.9,3.1,3.1,3.3]\n",
    "# readings at 2 hr interval starting at 8 hours \n",
    "m_w_1 = 13.98   # [kg/sec] mass flow rate through chiller-1\n",
    "\n",
    "chiller2_delta_T = [1.8,1.9,2.2,2,1.7,1.7,1.9,1.6,1.7,1.8,1.8,2.6]\n",
    "m_w_2 = 13.98   # [kg/sec] mass flow rate of water through chiller-2\n",
    "\n",
    "Q_chiller_1 = []\n",
    "Q_chiller_2 = []\n",
    "Q_chiller_total = []\n",
    "\n",
    "for i in range (0,12):\n",
    "    Q_chill = chiller_load(chiller1_delta_T[i], m_w_1)\n",
    "    Q_chiller_1.append(Q_chill)\n",
    "    \n",
    "    Q_chill2 = chiller_load(chiller2_delta_T[i], m_w_2)\n",
    "    Q_chiller_2.append(Q_chill2)\n",
    "    \n",
    "    Q_tot_ch = Q_chiller_1[i] + Q_chiller_2[i]\n",
    "    Q_chiller_total.append(Q_tot_ch)\n",
    "\n",
    "print(Q_chiller_total)\"\"\"\n"
   ]
  },
  {
   "cell_type": "code",
   "execution_count": 15,
   "id": "fc7e7213",
   "metadata": {},
   "outputs": [
    {
     "data": {
      "text/plain": [
       "'plt.figure(dpi = 100)\\nplt.plot(Q_chiller_total)\\nplt.xlabel(\"Time\")\\nplt.ylabel(\"Chiller Capacity [kW]\")\\nplt.title(\"Hourly chiller profile\")\\nplt.xlim(0,12)\\nplt.show()'"
      ]
     },
     "execution_count": 15,
     "metadata": {},
     "output_type": "execute_result"
    }
   ],
   "source": [
    "\"Plotting the chiller capacity variation with time\"\n",
    "\"\"\"plt.figure(dpi = 100)\n",
    "plt.plot(Q_chiller_total)\n",
    "plt.xlabel(\"Time\")\n",
    "plt.ylabel(\"Chiller Capacity [kW]\")\n",
    "plt.title(\"Hourly chiller profile\")\n",
    "plt.xlim(0,12)\n",
    "plt.show()\"\"\""
   ]
  }
 ],
 "metadata": {
  "kernelspec": {
   "display_name": "Python 3 (ipykernel)",
   "language": "python",
   "name": "python3"
  },
  "language_info": {
   "codemirror_mode": {
    "name": "ipython",
    "version": 3
   },
   "file_extension": ".py",
   "mimetype": "text/x-python",
   "name": "python",
   "nbconvert_exporter": "python",
   "pygments_lexer": "ipython3",
   "version": "3.9.12"
  }
 },
 "nbformat": 4,
 "nbformat_minor": 5
}
